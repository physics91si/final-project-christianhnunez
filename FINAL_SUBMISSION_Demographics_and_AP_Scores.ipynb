{
 "cells": [
  {
   "cell_type": "markdown",
   "metadata": {},
   "source": [
    "# AP Scores and Demographics: A Data Visualization Project"
   ]
  },
  {
   "cell_type": "markdown",
   "metadata": {},
   "source": [
    "For my project, I will be working with a the 2016 AP Test data where for each test, information about student demographics and scores are given. I will produce different data visualizations and then I perform a chi-squared test for categorial variables to test the null hypothesis: \"All demographics score in the same manner on [insert AP test name]\""
   ]
  },
  {
   "cell_type": "code",
   "execution_count": null,
   "metadata": {},
   "outputs": [],
   "source": [
    "from __future__ import print_function, division\n",
    "import pandas as pd\n",
    "from pandas.plotting import scatter_matrix\n",
    "import matplotlib.pyplot as plt\n",
    "import seaborn as sns\n",
    "import numpy as np\n",
    "import scipy.optimize as opt\n",
    "from matplotlib.backends.backend_pdf import PdfPages\n",
    "import random"
   ]
  },
  {
   "cell_type": "markdown",
   "metadata": {},
   "source": [
    "### Loading the Data:"
   ]
  },
  {
   "cell_type": "code",
   "execution_count": null,
   "metadata": {},
   "outputs": [],
   "source": [
    "examdata = pd.read_csv(\"new_exams.csv\")\n",
    "examdata"
   ]
  },
  {
   "cell_type": "code",
   "execution_count": null,
   "metadata": {},
   "outputs": [],
   "source": [
    "# Creating a numpy array of all of the 37 classes.\n",
    "classnames = []\n",
    "all_classes = []\n",
    "for i in range(0, 37):\n",
    "    start = 7 * i\n",
    "    stop = start + 5\n",
    "    this_class = []\n",
    "    classnames.append(examdata.iloc[start,0])\n",
    "    for j in range(2, 9):\n",
    "        this_class.append(examdata.iloc[start:stop,j])\n",
    "    all_classes.append(this_class)\n",
    "    \n",
    "all_classes = np.asarray(all_classes)\n",
    "\n",
    "# Getting the total for each demographic for each test\n",
    "totals = []\n",
    "for i in range(0, 37):\n",
    "    start = 5 + 7 * i\n",
    "    this_total = []\n",
    "    for j in range(2, 9):\n",
    "        this_total.append(examdata.iloc[start][j])\n",
    "    totals.append(this_total)"
   ]
  },
  {
   "cell_type": "markdown",
   "metadata": {},
   "source": [
    "Now that I have created a numpy array of all 37 classes, I can create the first visual: stacked bar charts (not normalized) for every class (including every demographic). These will be saved as the following: \"stacked-CLASSNAME-abnormal\" "
   ]
  },
  {
   "cell_type": "code",
   "execution_count": null,
   "metadata": {},
   "outputs": [],
   "source": [
    "colors_arr = [[75/255, 145/255, 194/255], [226/255, 80/255, 77/255], [255/255, 150/255, 70/255], [86/255, 180/255, 86/255], [216/255, 152/255, 197/255], [.2, 0.4, 0.8], [0.4, 0.1, 0.7]]              "
   ]
  },
  {
   "cell_type": "code",
   "execution_count": null,
   "metadata": {},
   "outputs": [],
   "source": [
    "def getNRandomColors(n):\n",
    "    colors = []\n",
    "    alpha = 0.7\n",
    "    for i in range(0, n):\n",
    "        color = []\n",
    "        for j in range(0, 4):\n",
    "            if j == 3:\n",
    "                color.append(alpha)\n",
    "            else:\n",
    "                color.append(random.random())\n",
    "        colors.append(color)\n",
    "    return colors\n",
    "\n",
    "colors_arr = getNRandomColors(7)"
   ]
  },
  {
   "cell_type": "code",
   "execution_count": null,
   "metadata": {},
   "outputs": [],
   "source": [
    "colors_arr = colors_arr"
   ]
  },
  {
   "cell_type": "code",
   "execution_count": null,
   "metadata": {},
   "outputs": [],
   "source": [
    "# Function to created a stacked bar chart\n",
    "def stacked_bar(xvalues, yvalues, legend_names, ax):\n",
    "    bottomTracker = 0\n",
    "    for i in range (0, len(yvalues)):\n",
    "        ax.bar(xvalues, yvalues[i], label = legend_names[i], bottom = bottomTracker, color=colors_arr[i], alpha=0.8)\n",
    "        bottomTracker += yvalues[i]\n",
    "    return ax\n",
    "\n",
    "def save_stacked(scores, this_class, classnames, i, ax=None):\n",
    "    legend_names = np.array([\"White\", \"Black\", \"Latinx\", \"Asian\", \n",
    "                             \"American Indian/Alaska Native\", \"Native Hawaiian/Pacific Islander\", \n",
    "                             \"2+ Races\"])\n",
    "    if(ax==None):\n",
    "        fig, ax = plt.subplots(1,1)\n",
    "    ax1 = stacked_bar(scores, this_class, legend_names, ax)\n",
    "    ax.set_title(classnames[i], fontsize=6)\n",
    "    ax.tick_params(labelsize=3)"
   ]
  },
  {
   "cell_type": "code",
   "execution_count": null,
   "metadata": {},
   "outputs": [],
   "source": [
    "scores = np.array([5, 4, 3, 2, 1])"
   ]
  },
  {
   "cell_type": "code",
   "execution_count": null,
   "metadata": {},
   "outputs": [],
   "source": [
    "f, ax = plt.subplots(8,5)\n",
    "f.suptitle(\"2016 AP Test Scores by Student-Identified Race\", y = 0.92, weight='semibold')\n",
    "f.set_size_inches(8,11)\n",
    "axarr = np.ndarray.flatten(ax)0\n",
    "\n",
    "for i in range(0, 40):\n",
    "    if(i<37):\n",
    "        save_stacked(scores, all_classes[i].astype(\"float64\"), classnames, i, axarr[i])\n",
    "    else:\n",
    "        axarr[i].axis(\"off\")\n",
    "\n",
    "#plt.tight_layout()\n",
    "f.subplots_adjust(hspace=0.5, wspace=0.5)\n",
    "plt.savefig(\"StackedGraphsNewColors.pdf\", dpi=500)"
   ]
  },
  {
   "cell_type": "markdown",
   "metadata": {},
   "source": [
    "### Gauging Popularity"
   ]
  },
  {
   "cell_type": "code",
   "execution_count": null,
   "metadata": {},
   "outputs": [],
   "source": [
    "# First, I will be looking at the total amount of students taking each test."
   ]
  },
  {
   "cell_type": "code",
   "execution_count": null,
   "metadata": {},
   "outputs": [],
   "source": [
    "# Creating a numpy array of totals for each class\n",
    "all_students = []\n",
    "for i in range(0, 37):\n",
    "    index = 7 * i + 5\n",
    "    all_students.append(examdata.iloc[index,9])\n",
    "\n",
    "print(all_students)\n",
    "print(classnames)"
   ]
  },
  {
   "cell_type": "code",
   "execution_count": null,
   "metadata": {},
   "outputs": [],
   "source": [
    "colors = []\n",
    "alpha = 0.75\n",
    "r_comp = all_students / all_students[9]\n",
    "for i in range(0, 37):\n",
    "    color = []\n",
    "    color.append(r_comp[i]/10)\n",
    "    color.append(0)\n",
    "    color.append(r_comp[i])\n",
    "    color.append(alpha)\n",
    "    colors.append(color)\n",
    "    \n",
    "f, ax = plt.subplots(1,1)\n",
    "f.set_size_inches(8,8)\n",
    "plt.barh(classnames, all_students, color = colors, capstyle='projecting')\n",
    "plt.xlabel(\"Number of Students\")\n",
    "plt.title(\"2016 AP Test Popularity\", weight='semibold')\n",
    "plt.tight_layout()\n",
    "#plt.savefig(\"testbarh.pdf\", dpi = 500)"
   ]
  },
  {
   "cell_type": "markdown",
   "metadata": {},
   "source": [
    "### Chi-Square Tests: Is AP Score on a given AP test independent of demographic?"
   ]
  },
  {
   "cell_type": "markdown",
   "metadata": {},
   "source": [
    "Null: The two variables are independent.\n",
    "Alternative hypothesis: The two (categorical) variables are dependent.\n",
    "\n",
    "We employ chi-square test because the outcomes are categorical and we are focused on proportions between groups."
   ]
  },
  {
   "cell_type": "code",
   "execution_count": null,
   "metadata": {},
   "outputs": [],
   "source": [
    "def expectedValue(rowTotal, colTotal, sampleSize):\n",
    "    return (rowTotal * colTotal) / sampleSize\n",
    "\n",
    "def getRowTotal(table):\n",
    "    colTotal = []\n",
    "    for arr in table:\n",
    "        colTotal.append(arr[5])\n",
    "    return colTotal\n",
    "\n",
    "def makeExpectedTable(rowTotals, colTotals, sampleSize):\n",
    "    etable = [] # Will be 5 by 8\n",
    "    for r in range(0, 8):\n",
    "        row = []\n",
    "        for c in range(0, 5):\n",
    "            exp_val = expectedValue(rowTotals[r], colTotals[c], sampleSize)\n",
    "            row.append(exp_val)\n",
    "        row.append(rowTotals[r])\n",
    "        etable.append(row)\n",
    "    return etable\n",
    "\n",
    "def chisquare(o, e, sampleSize):\n",
    "    if e == 0:\n",
    "        return 0\n",
    "    else:\n",
    "        return ((o - e)**2) / e\n",
    "\n",
    "def chisquare_table(table, etable, sampleSize):\n",
    "    chitable = []\n",
    "    for r in range(0, 7):\n",
    "        row = []\n",
    "        for c in range(0, 5):\n",
    "            chis = chisquare(table[r][c], etable[r][c], sampleSize)\n",
    "            row.append(chis)\n",
    "        chitable.append(row)\n",
    "    return chitable\n",
    "\n",
    "def getchisum(chitable):\n",
    "    chisum = 0\n",
    "    for row in chitable:\n",
    "        chisum += np.sum(np.array(row))\n",
    "    return chisum\n",
    "        \n",
    "        "
   ]
  },
  {
   "cell_type": "code",
   "execution_count": null,
   "metadata": {},
   "outputs": [],
   "source": [
    "# We have the columns of Class #i as each element of this array. \n",
    "# This represents our chi-square table.\n",
    "table = all_classes[0] ## change this\n",
    "sampleSize = table[7][5]\n",
    "colTotals = table[7]\n",
    "rowTotals = getRowTotal(table)\n",
    "\n",
    "table = np.array(table)\n",
    "etable = np.array(makeExpectedTable(rowTotals, colTotals, sampleSize))\n",
    "\n",
    "\n",
    "print(\"------\")\n",
    "print(\"original\")\n",
    "print(\"------\")\n",
    "print(np.array(table).astype('int'))\n",
    "print(\"------\")\n",
    "print(\"expected\")\n",
    "print(\"------\")\n",
    "print(etable.astype('int'))\n",
    "print(\"------\")\n",
    "print(\"chisquare addends\")\n",
    "print(\"------\")\n",
    "chitable = chisquare_table(table, etable, sampleSize)\n",
    "print(np.array(chitable).astype('int'))\n",
    "print(\"------\")\n",
    "print(\"chisum = \", getchisum(chitable))\n",
    "print(\"------\")"
   ]
  },
  {
   "cell_type": "code",
   "execution_count": null,
   "metadata": {},
   "outputs": [],
   "source": [
    "def build_chi_array():\n",
    "    chi_square_array = []\n",
    "    for i in range(0, 37):\n",
    "        table = all_classes[i] ## change this\n",
    "        sampleSize = table[7][5]\n",
    "        colTotals = table[7]\n",
    "        rowTotals = getRowTotal(table)\n",
    "        table = np.array(table)\n",
    "        etable = np.array(makeExpectedTable(rowTotals, colTotals, sampleSize))\n",
    "        chitable = chisquare_table(table, etable, sampleSize)\n",
    "        chi_square_array.append(getchisum(chitable))\n",
    "    return np.array(chi_square_array)"
   ]
  },
  {
   "cell_type": "code",
   "execution_count": null,
   "metadata": {},
   "outputs": [],
   "source": [
    "arr = build_chi_array()\n",
    "arr"
   ]
  },
  {
   "cell_type": "code",
   "execution_count": null,
   "metadata": {},
   "outputs": [],
   "source": [
    "af = {\"AP Test\" : classnames, \"Chi-Squared Values\" : arr}\n",
    "af = pd.DataFrame(af)\n",
    "af"
   ]
  },
  {
   "cell_type": "markdown",
   "metadata": {},
   "source": [
    "### Frequency Distributions for Each Test"
   ]
  },
  {
   "cell_type": "code",
   "execution_count": null,
   "metadata": {},
   "outputs": [],
   "source": [
    "# Creating a numpy array of all of the 37 classes.\n",
    "classnames = []\n",
    "all_classes = []\n",
    "for i in range(0, 37):\n",
    "    start = 7 * i\n",
    "    stop = start + 5\n",
    "    this_class = []\n",
    "    classnames.append(examdata.iloc[start,0])\n",
    "    for j in range(2, 10):\n",
    "        this_class.append(examdata.iloc[start:stop,j])\n",
    "    all_classes.append(this_class)\n",
    "    \n",
    "all_classes = np.asarray(all_classes)\n",
    "\n",
    "all_classes[2].shape"
   ]
  },
  {
   "cell_type": "code",
   "execution_count": null,
   "metadata": {},
   "outputs": [],
   "source": [
    "legend_names = np.array([\"White\", \"Black\", \"Latinx\", \"Asian\", \"American Indian/Alaska Native\", \"Native Hawaiian/Pacific Islander\", \"2+ Races\"])\n",
    "\n",
    "def freq_dist_all():\n",
    "    for j in range(0, 37):\n",
    "        legend_names = np.array([\"White\", \"Black\", \"Latinx\", \"Asian\", \"American Indian/Alaska Native\", \"Native Hawaiian/Pacific Islander\", \"2+ Races\"])\n",
    "        # For each demographic, graph the scores for THE CLASS\n",
    "        ff, axx = plt.subplots(4, 2)\n",
    "        ff.set_size_inches(8,11)\n",
    "        axarr = np.ndarray.flatten(axx)\n",
    "\n",
    "        for i in range(0, 8):\n",
    "            if i == 7:\n",
    "                axarr[i].axis(\"off\")\n",
    "            else:\n",
    "                axarr[i].bar(scores, all_classes[j][i], color = colors_arr[i])\n",
    "                axarr[i].set_title(legend_names[i])\n",
    "                axarr[i].set_xlabel(\"score\")\n",
    "                axarr[i].set_ylabel(\"# of students\")\n",
    "\n",
    "        ff.suptitle(classnames[j], y= 0.94, weight=\"bold\")\n",
    "        #ff.tight_layout()\n",
    "        filename = classnames[j] + \"_freq.pdf\"\n",
    "        ff.subplots_adjust(hspace=0.5, wspace=0.5)\n",
    "        caption = \"$\\chi^{2}$ statistic = \" + str(arr[j])\n",
    "        ff.text(0.5, 0.05, caption, horizontalalignment='center', weight=\"bold\")\n",
    "        plt.savefig(filename)\n",
    "\n",
    "freq_dist_all()"
   ]
  },
  {
   "cell_type": "code",
   "execution_count": null,
   "metadata": {},
   "outputs": [],
   "source": []
  },
  {
   "cell_type": "code",
   "execution_count": null,
   "metadata": {},
   "outputs": [],
   "source": []
  }
 ],
 "metadata": {
  "kernelspec": {
   "display_name": "Python 2",
   "language": "python",
   "name": "python2"
  },
  "language_info": {
   "codemirror_mode": {
    "name": "ipython",
    "version": 2
   },
   "file_extension": ".py",
   "mimetype": "text/x-python",
   "name": "python",
   "nbconvert_exporter": "python",
   "pygments_lexer": "ipython2",
   "version": "2.7.14"
  }
 },
 "nbformat": 4,
 "nbformat_minor": 2
}
